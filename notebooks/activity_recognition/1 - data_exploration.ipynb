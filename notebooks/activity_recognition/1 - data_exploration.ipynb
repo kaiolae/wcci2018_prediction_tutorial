{
 "cells": [
  {
   "cell_type": "markdown",
   "metadata": {},
   "source": [
    "# Classifying temporal data with non temporal models.\n",
    "\n",
    "### Use case: Activity recognition from accelerometer data. \n",
    "\n",
    "In this jupyter notebook we will explore a human acitivities dataset collected with a smartphone from accelerometer sensors. We will be using the human activity recognition WISDM dataset (http://www.cis.fordham.edu/wisdm/dataset.php) which contains 6 different activities: walking, jogging, walking upstairs, walking downstairs, sitting, standing. Please, download the dataset and unzip it."
   ]
  },
  {
   "cell_type": "markdown",
   "metadata": {},
   "source": [
    "Data was collected with an Android phone.  \n",
    "Phone location: pants pocket.\n",
    "\n",
    "Sampling rate:   \n",
    "20Hz (1 sample every 50ms)"
   ]
  },
  {
   "cell_type": "markdown",
   "metadata": {},
   "source": [
    "# Data analysis pipeline\n",
    "<img src=\"img/pipeline.png\" width=\"800\">"
   ]
  },
  {
   "cell_type": "code",
   "execution_count": null,
   "metadata": {},
   "outputs": [],
   "source": [
    "import pandas as pd\n",
    "import matplotlib.pyplot as plt"
   ]
  },
  {
   "cell_type": "markdown",
   "metadata": {},
   "source": [
    "<img src=\"img/exploration.png\" width=\"100\">"
   ]
  },
  {
   "cell_type": "code",
   "execution_count": null,
   "metadata": {},
   "outputs": [],
   "source": [
    "# Specify the full path to the file \"WISDM_ar_v1.1_raw.txt\"\n",
    "filepath = \"C:/big/WISDM_ar_v1.1_raw.txt\"\n",
    "\n",
    "# Read the data into a pandas dataframe.\n",
    "dataset = pd.read_csv(filepath, header=None, names=[\"user\",\"activity\",\"timestamp\",\"accX\",\"accY\",\"accZ\"])"
   ]
  },
  {
   "cell_type": "code",
   "execution_count": null,
   "metadata": {},
   "outputs": [],
   "source": [
    "# Display the first rows\n",
    "dataset.head(10)"
   ]
  },
  {
   "cell_type": "code",
   "execution_count": null,
   "metadata": {},
   "outputs": [],
   "source": [
    "# Get our dataframe dimensions\n",
    "dataset.shape"
   ]
  },
  {
   "cell_type": "code",
   "execution_count": null,
   "metadata": {},
   "outputs": [],
   "source": [
    "# Plot walking activity\n",
    "\n",
    "# Select rows with \"walking activity\"\n",
    "walking = dataset[dataset[\"activity\"] == \"Walking\"]\n",
    "\n",
    "# Select acceleration columns.\n",
    "walking = walking[['accX','accY','accZ']].head(50).reset_index(drop=True)\n",
    "\n",
    "# Plot the results\n",
    "walking.plot(figsize=(10,5))\n",
    "plt.show()"
   ]
  },
  {
   "cell_type": "code",
   "execution_count": null,
   "metadata": {},
   "outputs": [],
   "source": [
    "# Plot Standing activity\n",
    "standing = dataset[dataset[\"activity\"] == \"Standing\"]\n",
    "standing = standing[['accX','accY','accZ']].head(50).reset_index(drop=True)\n",
    "standing.plot(figsize=(10,5))\n",
    "plt.show()"
   ]
  },
  {
   "cell_type": "markdown",
   "metadata": {},
   "source": [
    "# Feature extraction\n",
    "\n",
    "Traditional Machine Learning classification models are more efficient with compact representations of the data.  \n",
    "Feature extraction is the process of transforming the raw data into compact representations by computing statistical features. These representations are called feature vectors. For accelerometer signals, it is common to use a sliding window approach. Define a fixed window size -> extract features -> move window -> repeat.\n",
    "\n",
    "<img src=\"img/feature_extraction.png\" width=\"700\">\n",
    "\n",
    "The WISDM dataset already contains a file with feature vectors \"WISDM_ar_v1.1_transformed.arff\". Windows of 10 seconds were used which is equivalent to 200 observations given the 20Hz sampling rate. From each window, 43 features were extracted such as: mean, standard deviation, absolute deviations, etc.\n"
   ]
  },
  {
   "cell_type": "markdown",
   "metadata": {},
   "source": [
    "# Classification\n",
    "\n",
    "<img src=\"img/classification.png\" width=\"700\">\n"
   ]
  },
  {
   "cell_type": "markdown",
   "metadata": {},
   "source": [
    "#  Random Forest\n",
    "\n",
    "- Is an ensemble learning method introduced by Leo Breiman (2001).\n",
    "- Uses bootstraping: sample data points with replacement and fits trees with those data points.\n",
    "- Selects a random subset of the features at each split.\n",
    "- Get final prediction by averaging/vote among all trees' outputs.\n",
    "\n"
   ]
  },
  {
   "cell_type": "markdown",
   "metadata": {},
   "source": [
    "### References\n",
    "\n",
    "- Jennifer R. Kwapisz, Gary M. Weiss and Samuel A. Moore (2010). Activity Recognition using Cell Phone Accelerometers, Proceedings of the Fourth International Workshop on Knowledge Discovery from Sensor Data (at KDD-10), Washington DC.\n",
    "- Breiman, L. (2001). Random forests. Machine learning, 45(1), 5-32.\n"
   ]
  },
  {
   "cell_type": "code",
   "execution_count": null,
   "metadata": {},
   "outputs": [],
   "source": []
  }
 ],
 "metadata": {
  "kernelspec": {
   "display_name": "Python 3",
   "language": "python",
   "name": "python3"
  },
  "language_info": {
   "codemirror_mode": {
    "name": "ipython",
    "version": 3
   },
   "file_extension": ".py",
   "mimetype": "text/x-python",
   "name": "python",
   "nbconvert_exporter": "python",
   "pygments_lexer": "ipython3",
   "version": "3.6.4"
  }
 },
 "nbformat": 4,
 "nbformat_minor": 2
}
